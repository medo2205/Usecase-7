{
 "cells": [
  {
   "cell_type": "markdown",
   "metadata": {},
   "source": [
    "## Import Libraries"
   ]
  },
  {
   "cell_type": "code",
   "execution_count": 505,
   "metadata": {},
   "outputs": [],
   "source": [
    "# To ignore warnings\n",
    "import warnings\n",
    "warnings.filterwarnings(\"ignore\")\n",
    "import pandas as pd\n",
    "import numpy as np\n",
    "import matplotlib.pyplot as plt\n",
    "import seaborn as sns\n",
    "\n",
    "from sklearn.model_selection import train_test_split\n",
    "from sklearn.metrics import mean_squared_error, r2_score, mean_absolute_error\n",
    "from sklearn.preprocessing import StandardScaler\n",
    "from sklearn.linear_model import LogisticRegression, LinearRegression, Ridge, Lasso\n",
    "from sklearn.model_selection import GridSearchCV\n",
    "from sklearn import metrics\n",
    "from sklearn.preprocessing import LabelEncoder\n",
    "\n",
    "%matplotlib inline\n"
   ]
  },
  {
   "cell_type": "markdown",
   "metadata": {},
   "source": [
    "## Load the Data"
   ]
  },
  {
   "cell_type": "code",
   "execution_count": 506,
   "metadata": {},
   "outputs": [],
   "source": [
    "df = pd.read_csv(\"cleaned.csv\")"
   ]
  },
  {
   "cell_type": "code",
   "execution_count": 507,
   "metadata": {},
   "outputs": [
    {
     "data": {
      "text/plain": [
       "(5745, 19)"
      ]
     },
     "execution_count": 507,
     "metadata": {},
     "output_type": "execute_result"
    }
   ],
   "source": [
    "df.shape"
   ]
  },
  {
   "cell_type": "code",
   "execution_count": 508,
   "metadata": {
    "scrolled": true
   },
   "outputs": [
    {
     "data": {
      "text/html": [
       "<div>\n",
       "<style scoped>\n",
       "    .dataframe tbody tr th:only-of-type {\n",
       "        vertical-align: middle;\n",
       "    }\n",
       "\n",
       "    .dataframe tbody tr th {\n",
       "        vertical-align: top;\n",
       "    }\n",
       "\n",
       "    .dataframe thead th {\n",
       "        text-align: right;\n",
       "    }\n",
       "</style>\n",
       "<table border=\"1\" class=\"dataframe\">\n",
       "  <thead>\n",
       "    <tr style=\"text-align: right;\">\n",
       "      <th></th>\n",
       "      <th>Unnamed: 0</th>\n",
       "      <th>team</th>\n",
       "      <th>position</th>\n",
       "      <th>height</th>\n",
       "      <th>age</th>\n",
       "      <th>appearance</th>\n",
       "      <th>goals</th>\n",
       "      <th>assists</th>\n",
       "      <th>yellow cards</th>\n",
       "      <th>second yellow cards</th>\n",
       "      <th>red cards</th>\n",
       "      <th>goals conceded</th>\n",
       "      <th>clean sheets</th>\n",
       "      <th>minutes played</th>\n",
       "      <th>days_injured</th>\n",
       "      <th>games_injured</th>\n",
       "      <th>award</th>\n",
       "      <th>current_value</th>\n",
       "      <th>highest_value</th>\n",
       "    </tr>\n",
       "  </thead>\n",
       "  <tbody>\n",
       "    <tr>\n",
       "      <th>0</th>\n",
       "      <td>1</td>\n",
       "      <td>Manchester United</td>\n",
       "      <td>Goalkeeper</td>\n",
       "      <td>196.0</td>\n",
       "      <td>30.0</td>\n",
       "      <td>15</td>\n",
       "      <td>0.0</td>\n",
       "      <td>0.0</td>\n",
       "      <td>0.069018</td>\n",
       "      <td>0.0</td>\n",
       "      <td>0.0</td>\n",
       "      <td>1.242331</td>\n",
       "      <td>0.207055</td>\n",
       "      <td>1304</td>\n",
       "      <td>510</td>\n",
       "      <td>58</td>\n",
       "      <td>1</td>\n",
       "      <td>1500000</td>\n",
       "      <td>22000000</td>\n",
       "    </tr>\n",
       "    <tr>\n",
       "      <th>1</th>\n",
       "      <td>8</td>\n",
       "      <td>Manchester United</td>\n",
       "      <td>Defender Centre-Back</td>\n",
       "      <td>186.0</td>\n",
       "      <td>21.0</td>\n",
       "      <td>34</td>\n",
       "      <td>0.0</td>\n",
       "      <td>0.0</td>\n",
       "      <td>0.130529</td>\n",
       "      <td>0.0</td>\n",
       "      <td>0.0</td>\n",
       "      <td>0.000000</td>\n",
       "      <td>0.000000</td>\n",
       "      <td>2758</td>\n",
       "      <td>47</td>\n",
       "      <td>13</td>\n",
       "      <td>0</td>\n",
       "      <td>2000000</td>\n",
       "      <td>2000000</td>\n",
       "    </tr>\n",
       "  </tbody>\n",
       "</table>\n",
       "</div>"
      ],
      "text/plain": [
       "   Unnamed: 0               team              position  height   age  \\\n",
       "0           1  Manchester United            Goalkeeper   196.0  30.0   \n",
       "1           8  Manchester United  Defender Centre-Back   186.0  21.0   \n",
       "\n",
       "   appearance  goals  assists  yellow cards  second yellow cards  red cards  \\\n",
       "0          15    0.0      0.0      0.069018                  0.0        0.0   \n",
       "1          34    0.0      0.0      0.130529                  0.0        0.0   \n",
       "\n",
       "   goals conceded  clean sheets  minutes played  days_injured  games_injured  \\\n",
       "0        1.242331      0.207055            1304           510             58   \n",
       "1        0.000000      0.000000            2758            47             13   \n",
       "\n",
       "   award  current_value  highest_value  \n",
       "0      1        1500000       22000000  \n",
       "1      0        2000000        2000000  "
      ]
     },
     "execution_count": 508,
     "metadata": {},
     "output_type": "execute_result"
    }
   ],
   "source": [
    "df.head(2)"
   ]
  },
  {
   "cell_type": "markdown",
   "metadata": {},
   "source": [
    "## Preprocess the Data"
   ]
  },
  {
   "cell_type": "markdown",
   "metadata": {
    "jp-MarkdownHeadingCollapsed": true
   },
   "source": [
    "#### 1. Simple EDA + Data Quality checking"
   ]
  },
  {
   "cell_type": "code",
   "execution_count": null,
   "metadata": {},
   "outputs": [],
   "source": []
  },
  {
   "cell_type": "code",
   "execution_count": 509,
   "metadata": {},
   "outputs": [],
   "source": [
    "# # Accurecy types\n",
    "# df.dtypes\n",
    "# df.drop('name', inplace=True, axis=1)"
   ]
  },
  {
   "cell_type": "code",
   "execution_count": 510,
   "metadata": {},
   "outputs": [],
   "source": [
    "# Accurecy - Outlier\n",
    "\n",
    "# Convert categorical variables using OneHotEncoding\n",
    "numeric_features = ['height', 'age', 'appearance', 'goals',\n",
    "       'assists', 'yellow cards', 'second yellow cards', 'red cards',\n",
    "       'goals conceded', 'clean sheets', 'minutes played', 'days_injured',\n",
    "       'games_injured', 'award', 'current_value', 'highest_value']\n",
    "categorical_features = ['team']"
   ]
  },
  {
   "cell_type": "code",
   "execution_count": 511,
   "metadata": {},
   "outputs": [
    {
     "name": "stdout",
     "output_type": "stream",
     "text": [
      "team\n",
      "FC Volendam                         30\n",
      "1.FC Köln                           28\n",
      "Orlando Pirates                     27\n",
      "Kasimpasa                           27\n",
      "FC Utrecht                          26\n",
      "                                    ..\n",
      "América Futebol Clube (MG)           2\n",
      "Grêmio Foot-Ball Porto Alegrense     2\n",
      "Coritiba Foot Ball Club              2\n",
      "CA Huracán                           1\n",
      "Goiás Esporte Clube                  1\n",
      "Name: count, Length: 373, dtype: int64\n"
     ]
    }
   ],
   "source": [
    "for i in categorical_features:\n",
    "    print(df[i].value_counts())"
   ]
  },
  {
   "cell_type": "code",
   "execution_count": 512,
   "metadata": {},
   "outputs": [
    {
     "data": {
      "text/plain": [
       "(5745, 19)"
      ]
     },
     "execution_count": 512,
     "metadata": {},
     "output_type": "execute_result"
    }
   ],
   "source": [
    "df.shape"
   ]
  },
  {
   "cell_type": "code",
   "execution_count": 513,
   "metadata": {},
   "outputs": [],
   "source": [
    "# Calculate the frequency of each 'Type'\n",
    "type_counts = df['team'].value_counts()\n",
    "\n",
    "# Filter 'Type' values that appear 10 or more times\n",
    "df = df[df['team'].isin(type_counts[type_counts >= 2].index)]"
   ]
  },
  {
   "cell_type": "code",
   "execution_count": 514,
   "metadata": {},
   "outputs": [
    {
     "data": {
      "text/html": [
       "<div>\n",
       "<style scoped>\n",
       "    .dataframe tbody tr th:only-of-type {\n",
       "        vertical-align: middle;\n",
       "    }\n",
       "\n",
       "    .dataframe tbody tr th {\n",
       "        vertical-align: top;\n",
       "    }\n",
       "\n",
       "    .dataframe thead th {\n",
       "        text-align: right;\n",
       "    }\n",
       "</style>\n",
       "<table border=\"1\" class=\"dataframe\">\n",
       "  <thead>\n",
       "    <tr style=\"text-align: right;\">\n",
       "      <th></th>\n",
       "      <th>Unnamed: 0</th>\n",
       "      <th>team</th>\n",
       "      <th>position</th>\n",
       "      <th>height</th>\n",
       "      <th>age</th>\n",
       "      <th>appearance</th>\n",
       "      <th>goals</th>\n",
       "      <th>assists</th>\n",
       "      <th>yellow cards</th>\n",
       "      <th>second yellow cards</th>\n",
       "      <th>red cards</th>\n",
       "      <th>goals conceded</th>\n",
       "      <th>clean sheets</th>\n",
       "      <th>minutes played</th>\n",
       "      <th>days_injured</th>\n",
       "      <th>games_injured</th>\n",
       "      <th>award</th>\n",
       "      <th>current_value</th>\n",
       "      <th>highest_value</th>\n",
       "    </tr>\n",
       "  </thead>\n",
       "  <tbody>\n",
       "    <tr>\n",
       "      <th>0</th>\n",
       "      <td>1</td>\n",
       "      <td>Manchester United</td>\n",
       "      <td>Goalkeeper</td>\n",
       "      <td>196.0</td>\n",
       "      <td>30.0</td>\n",
       "      <td>15</td>\n",
       "      <td>0.0</td>\n",
       "      <td>0.0</td>\n",
       "      <td>0.069018</td>\n",
       "      <td>0.0</td>\n",
       "      <td>0.0</td>\n",
       "      <td>1.242331</td>\n",
       "      <td>0.207055</td>\n",
       "      <td>1304</td>\n",
       "      <td>510</td>\n",
       "      <td>58</td>\n",
       "      <td>1</td>\n",
       "      <td>1500000</td>\n",
       "      <td>22000000</td>\n",
       "    </tr>\n",
       "    <tr>\n",
       "      <th>1</th>\n",
       "      <td>8</td>\n",
       "      <td>Manchester United</td>\n",
       "      <td>Defender Centre-Back</td>\n",
       "      <td>186.0</td>\n",
       "      <td>21.0</td>\n",
       "      <td>34</td>\n",
       "      <td>0.0</td>\n",
       "      <td>0.0</td>\n",
       "      <td>0.130529</td>\n",
       "      <td>0.0</td>\n",
       "      <td>0.0</td>\n",
       "      <td>0.000000</td>\n",
       "      <td>0.000000</td>\n",
       "      <td>2758</td>\n",
       "      <td>47</td>\n",
       "      <td>13</td>\n",
       "      <td>0</td>\n",
       "      <td>2000000</td>\n",
       "      <td>2000000</td>\n",
       "    </tr>\n",
       "  </tbody>\n",
       "</table>\n",
       "</div>"
      ],
      "text/plain": [
       "   Unnamed: 0               team              position  height   age  \\\n",
       "0           1  Manchester United            Goalkeeper   196.0  30.0   \n",
       "1           8  Manchester United  Defender Centre-Back   186.0  21.0   \n",
       "\n",
       "   appearance  goals  assists  yellow cards  second yellow cards  red cards  \\\n",
       "0          15    0.0      0.0      0.069018                  0.0        0.0   \n",
       "1          34    0.0      0.0      0.130529                  0.0        0.0   \n",
       "\n",
       "   goals conceded  clean sheets  minutes played  days_injured  games_injured  \\\n",
       "0        1.242331      0.207055            1304           510             58   \n",
       "1        0.000000      0.000000            2758            47             13   \n",
       "\n",
       "   award  current_value  highest_value  \n",
       "0      1        1500000       22000000  \n",
       "1      0        2000000        2000000  "
      ]
     },
     "execution_count": 514,
     "metadata": {},
     "output_type": "execute_result"
    }
   ],
   "source": [
    "df.head(2)"
   ]
  },
  {
   "cell_type": "code",
   "execution_count": 515,
   "metadata": {},
   "outputs": [
    {
     "data": {
      "text/plain": [
       "(5743, 19)"
      ]
     },
     "execution_count": 515,
     "metadata": {},
     "output_type": "execute_result"
    }
   ],
   "source": [
    "df.shape"
   ]
  },
  {
   "cell_type": "code",
   "execution_count": 516,
   "metadata": {},
   "outputs": [
    {
     "data": {
      "text/plain": [
       "(5743, 19)"
      ]
     },
     "execution_count": 516,
     "metadata": {},
     "output_type": "execute_result"
    }
   ],
   "source": [
    "df.shape"
   ]
  },
  {
   "cell_type": "code",
   "execution_count": 517,
   "metadata": {
    "scrolled": true
   },
   "outputs": [
    {
     "data": {
      "image/png": "[encoded data removed]",
      "text/plain": [
       "<Figure size 640x480 with 1 Axes>"
      ]
     },
     "metadata": {},
     "output_type": "display_data"
    },
    {
     "data": {
      "image/png": "[encoded data removed]",
      "text/plain": [
       "<Figure size 640x480 with 1 Axes>"
      ]
     },
     "metadata": {},
     "output_type": "display_data"
    },
    {
     "data": {
      "image/png": "[encoded data removed]",
      "text/plain": [
       "<Figure size 640x480 with 1 Axes>"
      ]
     },
     "metadata": {},
     "output_type": "display_data"
    },
    {
     "data": {
      "image/png": "[encoded data removed]",
      "text/plain": [
       "<Figure size 640x480 with 1 Axes>"
      ]
     },
     "metadata": {},
     "output_type": "display_data"
    },
    {
     "data": {
      "image/png": "[encoded data removed]",
      "text/plain": [
       "<Figure size 640x480 with 1 Axes>"
      ]
     },
     "metadata": {},
     "output_type": "display_data"
    },
    {
     "data": {
      "image/png": "[encoded data removed]",
      "text/plain": [
       "<Figure size 640x480 with 1 Axes>"
      ]
     },
     "metadata": {},
     "output_type": "display_data"
    },
    {
     "data": {
      "image/png": "[encoded data removed]",
      "text/plain": [
       "<Figure size 640x480 with 1 Axes>"
      ]
     },
     "metadata": {},
     "output_type": "display_data"
    },
    {
     "data": {
      "image/png": "[encoded data removed]",
      "text/plain": [
       "<Figure size 640x480 with 1 Axes>"
      ]
     },
     "metadata": {},
     "output_type": "display_data"
    },
    {
     "data": {
      "image/png": "[encoded data removed]",
      "text/plain": [
       "<Figure size 640x480 with 1 Axes>"
      ]
     },
     "metadata": {},
     "output_type": "display_data"
    },
    {
     "data": {
      "image/png": "[encoded data removed]",
      "text/plain": [
       "<Figure size 640x480 with 1 Axes>"
      ]
     },
     "metadata": {},
     "output_type": "display_data"
    },
    {
     "data": {
      "image/png": "[encoded data removed]",
      "text/plain": [
       "<Figure size 640x480 with 1 Axes>"
      ]
     },
     "metadata": {},
     "output_type": "display_data"
    },
    {
     "data": {
      "image/png": "[encoded data removed]",
      "text/plain": [
       "<Figure size 640x480 with 1 Axes>"
      ]
     },
     "metadata": {},
     "output_type": "display_data"
    },
    {
     "data": {
      "image/png": "[encoded data removed]",
      "text/plain": [
       "<Figure size 640x480 with 1 Axes>"
      ]
     },
     "metadata": {},
     "output_type": "display_data"
    },
    {
     "data": {
      "image/png": "[encoded data removed]",
      "text/plain": [
       "<Figure size 640x480 with 1 Axes>"
      ]
     },
     "metadata": {},
     "output_type": "display_data"
    },
    {
     "data": {
      "image/png": "[encoded data removed]",
      "text/plain": [
       "<Figure size 640x480 with 1 Axes>"
      ]
     },
     "metadata": {},
     "output_type": "display_data"
    },
    {
     "data": {
      "image/png": "[encoded data removed]",
      "text/plain": [
       "<Figure size 640x480 with 1 Axes>"
      ]
     },
     "metadata": {},
     "output_type": "display_data"
    }
   ],
   "source": [
    "for i in numeric_features:\n",
    "    plt.hist(df[i])\n",
    "    plt.title(i)\n",
    "    plt.show()"
   ]
  },
  {
   "cell_type": "code",
   "execution_count": 518,
   "metadata": {},
   "outputs": [
    {
     "data": {
      "text/plain": [
       "(5743, 19)"
      ]
     },
     "execution_count": 518,
     "metadata": {},
     "output_type": "execute_result"
    }
   ],
   "source": [
    "df.shape"
   ]
  },
  {
   "cell_type": "code",
   "execution_count": 519,
   "metadata": {},
   "outputs": [
    {
     "data": {
      "text/plain": [
       "(5743, 19)"
      ]
     },
     "execution_count": 519,
     "metadata": {},
     "output_type": "execute_result"
    }
   ],
   "source": [
    "df.shape"
   ]
  },
  {
   "cell_type": "code",
   "execution_count": 520,
   "metadata": {},
   "outputs": [
    {
     "data": {
      "text/plain": [
       "(5743, 19)"
      ]
     },
     "execution_count": 520,
     "metadata": {},
     "output_type": "execute_result"
    }
   ],
   "source": [
    "df.shape"
   ]
  },
  {
   "cell_type": "markdown",
   "metadata": {},
   "source": [
    "#### 2. Feature engineering"
   ]
  },
  {
   "cell_type": "markdown",
   "metadata": {},
   "source": [
    "1. Feature scaling\n",
    "2. Aggregation\n",
    "3. One hot coding"
   ]
  },
  {
   "cell_type": "code",
   "execution_count": 521,
   "metadata": {},
   "outputs": [
    {
     "data": {
      "text/html": [
       "<div>\n",
       "<style scoped>\n",
       "    .dataframe tbody tr th:only-of-type {\n",
       "        vertical-align: middle;\n",
       "    }\n",
       "\n",
       "    .dataframe tbody tr th {\n",
       "        vertical-align: top;\n",
       "    }\n",
       "\n",
       "    .dataframe thead th {\n",
       "        text-align: right;\n",
       "    }\n",
       "</style>\n",
       "<table border=\"1\" class=\"dataframe\">\n",
       "  <thead>\n",
       "    <tr style=\"text-align: right;\">\n",
       "      <th></th>\n",
       "      <th>Unnamed: 0</th>\n",
       "      <th>height</th>\n",
       "      <th>age</th>\n",
       "      <th>appearance</th>\n",
       "      <th>goals</th>\n",
       "      <th>assists</th>\n",
       "      <th>yellow cards</th>\n",
       "      <th>second yellow cards</th>\n",
       "      <th>red cards</th>\n",
       "      <th>goals conceded</th>\n",
       "      <th>clean sheets</th>\n",
       "      <th>minutes played</th>\n",
       "      <th>days_injured</th>\n",
       "      <th>games_injured</th>\n",
       "      <th>award</th>\n",
       "      <th>current_value</th>\n",
       "      <th>highest_value</th>\n",
       "    </tr>\n",
       "  </thead>\n",
       "  <tbody>\n",
       "    <tr>\n",
       "      <th>count</th>\n",
       "      <td>5743.00000</td>\n",
       "      <td>5743.000000</td>\n",
       "      <td>5743.000000</td>\n",
       "      <td>5743.000000</td>\n",
       "      <td>5743.000000</td>\n",
       "      <td>5743.000000</td>\n",
       "      <td>5743.000000</td>\n",
       "      <td>5743.000000</td>\n",
       "      <td>5743.000000</td>\n",
       "      <td>5743.000000</td>\n",
       "      <td>5743.000000</td>\n",
       "      <td>5743.000000</td>\n",
       "      <td>5743.000000</td>\n",
       "      <td>5743.000000</td>\n",
       "      <td>5743.000000</td>\n",
       "      <td>5.743000e+03</td>\n",
       "      <td>5.743000e+03</td>\n",
       "    </tr>\n",
       "    <tr>\n",
       "      <th>mean</th>\n",
       "      <td>4965.93923</td>\n",
       "      <td>181.333385</td>\n",
       "      <td>26.027004</td>\n",
       "      <td>46.965871</td>\n",
       "      <td>0.117552</td>\n",
       "      <td>0.086878</td>\n",
       "      <td>0.167007</td>\n",
       "      <td>0.001815</td>\n",
       "      <td>0.003947</td>\n",
       "      <td>0.129832</td>\n",
       "      <td>0.027645</td>\n",
       "      <td>3224.821348</td>\n",
       "      <td>99.064426</td>\n",
       "      <td>12.974404</td>\n",
       "      <td>1.419119</td>\n",
       "      <td>3.390384e+06</td>\n",
       "      <td>5.220665e+06</td>\n",
       "    </tr>\n",
       "    <tr>\n",
       "      <th>std</th>\n",
       "      <td>3070.62769</td>\n",
       "      <td>6.846489</td>\n",
       "      <td>4.379801</td>\n",
       "      <td>20.593143</td>\n",
       "      <td>0.131816</td>\n",
       "      <td>0.087997</td>\n",
       "      <td>0.097620</td>\n",
       "      <td>0.005936</td>\n",
       "      <td>0.010414</td>\n",
       "      <td>0.408816</td>\n",
       "      <td>0.090270</td>\n",
       "      <td>1643.954976</td>\n",
       "      <td>124.675160</td>\n",
       "      <td>16.139539</td>\n",
       "      <td>1.834695</td>\n",
       "      <td>6.124239e+06</td>\n",
       "      <td>8.314052e+06</td>\n",
       "    </tr>\n",
       "    <tr>\n",
       "      <th>min</th>\n",
       "      <td>1.00000</td>\n",
       "      <td>164.000000</td>\n",
       "      <td>16.000000</td>\n",
       "      <td>13.000000</td>\n",
       "      <td>0.000000</td>\n",
       "      <td>0.000000</td>\n",
       "      <td>0.000000</td>\n",
       "      <td>0.000000</td>\n",
       "      <td>0.000000</td>\n",
       "      <td>0.000000</td>\n",
       "      <td>0.000000</td>\n",
       "      <td>126.000000</td>\n",
       "      <td>0.000000</td>\n",
       "      <td>0.000000</td>\n",
       "      <td>0.000000</td>\n",
       "      <td>0.000000e+00</td>\n",
       "      <td>0.000000e+00</td>\n",
       "    </tr>\n",
       "    <tr>\n",
       "      <th>25%</th>\n",
       "      <td>2305.00000</td>\n",
       "      <td>176.000000</td>\n",
       "      <td>23.000000</td>\n",
       "      <td>29.000000</td>\n",
       "      <td>0.000000</td>\n",
       "      <td>0.000000</td>\n",
       "      <td>0.092752</td>\n",
       "      <td>0.000000</td>\n",
       "      <td>0.000000</td>\n",
       "      <td>0.000000</td>\n",
       "      <td>0.000000</td>\n",
       "      <td>1780.500000</td>\n",
       "      <td>0.000000</td>\n",
       "      <td>0.000000</td>\n",
       "      <td>0.000000</td>\n",
       "      <td>4.000000e+05</td>\n",
       "      <td>6.000000e+05</td>\n",
       "    </tr>\n",
       "    <tr>\n",
       "      <th>50%</th>\n",
       "      <td>4886.00000</td>\n",
       "      <td>181.240353</td>\n",
       "      <td>26.000000</td>\n",
       "      <td>49.000000</td>\n",
       "      <td>0.070130</td>\n",
       "      <td>0.064332</td>\n",
       "      <td>0.160428</td>\n",
       "      <td>0.000000</td>\n",
       "      <td>0.000000</td>\n",
       "      <td>0.000000</td>\n",
       "      <td>0.000000</td>\n",
       "      <td>3120.000000</td>\n",
       "      <td>44.000000</td>\n",
       "      <td>6.000000</td>\n",
       "      <td>1.000000</td>\n",
       "      <td>1.000000e+06</td>\n",
       "      <td>2.000000e+06</td>\n",
       "    </tr>\n",
       "    <tr>\n",
       "      <th>75%</th>\n",
       "      <td>7138.00000</td>\n",
       "      <td>186.000000</td>\n",
       "      <td>29.000000</td>\n",
       "      <td>63.000000</td>\n",
       "      <td>0.182556</td>\n",
       "      <td>0.138284</td>\n",
       "      <td>0.234742</td>\n",
       "      <td>0.000000</td>\n",
       "      <td>0.000000</td>\n",
       "      <td>0.000000</td>\n",
       "      <td>0.000000</td>\n",
       "      <td>4466.500000</td>\n",
       "      <td>162.000000</td>\n",
       "      <td>21.000000</td>\n",
       "      <td>2.000000</td>\n",
       "      <td>3.200000e+06</td>\n",
       "      <td>6.000000e+06</td>\n",
       "    </tr>\n",
       "    <tr>\n",
       "      <th>max</th>\n",
       "      <td>10753.00000</td>\n",
       "      <td>200.000000</td>\n",
       "      <td>37.000000</td>\n",
       "      <td>97.000000</td>\n",
       "      <td>0.547945</td>\n",
       "      <td>0.398230</td>\n",
       "      <td>0.399408</td>\n",
       "      <td>0.029940</td>\n",
       "      <td>0.054828</td>\n",
       "      <td>3.400000</td>\n",
       "      <td>0.796460</td>\n",
       "      <td>6999.000000</td>\n",
       "      <td>598.000000</td>\n",
       "      <td>64.000000</td>\n",
       "      <td>8.000000</td>\n",
       "      <td>5.500000e+07</td>\n",
       "      <td>5.500000e+07</td>\n",
       "    </tr>\n",
       "  </tbody>\n",
       "</table>\n",
       "</div>"
      ],
      "text/plain": [
       "        Unnamed: 0       height          age   appearance        goals  \\\n",
       "count   5743.00000  5743.000000  5743.000000  5743.000000  5743.000000   \n",
       "mean    4965.93923   181.333385    26.027004    46.965871     0.117552   \n",
       "std     3070.62769     6.846489     4.379801    20.593143     0.131816   \n",
       "min        1.00000   164.000000    16.000000    13.000000     0.000000   \n",
       "25%     2305.00000   176.000000    23.000000    29.000000     0.000000   \n",
       "50%     4886.00000   181.240353    26.000000    49.000000     0.070130   \n",
       "75%     7138.00000   186.000000    29.000000    63.000000     0.182556   \n",
       "max    10753.00000   200.000000    37.000000    97.000000     0.547945   \n",
       "\n",
       "           assists  yellow cards  second yellow cards    red cards  \\\n",
       "count  5743.000000   5743.000000          5743.000000  5743.000000   \n",
       "mean      0.086878      0.167007             0.001815     0.003947   \n",
       "std       0.087997      0.097620             0.005936     0.010414   \n",
       "min       0.000000      0.000000             0.000000     0.000000   \n",
       "25%       0.000000      0.092752             0.000000     0.000000   \n",
       "50%       0.064332      0.160428             0.000000     0.000000   \n",
       "75%       0.138284      0.234742             0.000000     0.000000   \n",
       "max       0.398230      0.399408             0.029940     0.054828   \n",
       "\n",
       "       goals conceded  clean sheets  minutes played  days_injured  \\\n",
       "count     5743.000000   5743.000000     5743.000000   5743.000000   \n",
       "mean         0.129832      0.027645     3224.821348     99.064426   \n",
       "std          0.408816      0.090270     1643.954976    124.675160   \n",
       "min          0.000000      0.000000      126.000000      0.000000   \n",
       "25%          0.000000      0.000000     1780.500000      0.000000   \n",
       "50%          0.000000      0.000000     3120.000000     44.000000   \n",
       "75%          0.000000      0.000000     4466.500000    162.000000   \n",
       "max          3.400000      0.796460     6999.000000    598.000000   \n",
       "\n",
       "       games_injured        award  current_value  highest_value  \n",
       "count    5743.000000  5743.000000   5.743000e+03   5.743000e+03  \n",
       "mean       12.974404     1.419119   3.390384e+06   5.220665e+06  \n",
       "std        16.139539     1.834695   6.124239e+06   8.314052e+06  \n",
       "min         0.000000     0.000000   0.000000e+00   0.000000e+00  \n",
       "25%         0.000000     0.000000   4.000000e+05   6.000000e+05  \n",
       "50%         6.000000     1.000000   1.000000e+06   2.000000e+06  \n",
       "75%        21.000000     2.000000   3.200000e+06   6.000000e+06  \n",
       "max        64.000000     8.000000   5.500000e+07   5.500000e+07  "
      ]
     },
     "execution_count": 521,
     "metadata": {},
     "output_type": "execute_result"
    }
   ],
   "source": [
    "df.describe()"
   ]
  },
  {
   "cell_type": "code",
   "execution_count": 522,
   "metadata": {},
   "outputs": [
    {
     "data": {
      "text/plain": [
       "['team']"
      ]
     },
     "execution_count": 522,
     "metadata": {},
     "output_type": "execute_result"
    }
   ],
   "source": [
    "categorical_features\n"
   ]
  },
  {
   "cell_type": "code",
   "execution_count": 523,
   "metadata": {},
   "outputs": [],
   "source": [
    "df.drop(\"Unnamed: 0\", inplace=True, axis=1)\n",
    "# df.drop(\"clean sheets\", inplace=True, axis=1)\n",
    "\n",
    "# one hot coding\n",
    "df = pd.get_dummies(df, columns=categorical_features)"
   ]
  },
  {
   "cell_type": "code",
   "execution_count": 524,
   "metadata": {},
   "outputs": [
    {
     "name": "stdout",
     "output_type": "stream",
     "text": [
      "position\n",
      "Defender Centre-Back          1006\n",
      "midfield-CentralMidfield       666\n",
      "Attack Centre-Forward          644\n",
      "Goalkeeper                     558\n",
      "Defender Right-Back            521\n",
      "midfield-DefensiveMidfield     479\n",
      "Defender Left-Back             473\n",
      "Attack-RightWinger             430\n",
      "midfield-AttackingMidfield     419\n",
      "Attack-LeftWinger              389\n",
      "midfield-RightMidfield          57\n",
      "midfield-LeftMidfield           49\n",
      "Attack-SecondStriker            37\n",
      "midfield                         6\n",
      "Defender                         5\n",
      "Attack                           4\n",
      "Name: count, dtype: int64\n"
     ]
    }
   ],
   "source": [
    "print(df['position'].value_counts())\n"
   ]
  },
  {
   "cell_type": "code",
   "execution_count": 525,
   "metadata": {},
   "outputs": [],
   "source": [
    "encoder = LabelEncoder()\n",
    "df[\"position_encoded\"] = encoder.fit_transform(df['position'])\n",
    "df.drop('position', axis=1, inplace=True)\n"
   ]
  },
  {
   "cell_type": "code",
   "execution_count": 526,
   "metadata": {},
   "outputs": [
    {
     "name": "stdout",
     "output_type": "stream",
     "text": [
      "height\n",
      "age\n",
      "appearance\n",
      "goals\n",
      "assists\n",
      "yellow cards\n",
      "second yellow cards\n",
      "red cards\n",
      "goals conceded\n",
      "clean sheets\n",
      "minutes played\n",
      "days_injured\n",
      "games_injured\n",
      "award\n",
      "current_value\n",
      "highest_value\n",
      "team_1.FC Köln\n",
      "team_1.FC Union Berlin\n",
      "team_1.FSV Mainz 05\n",
      "team_AA Argentinos Juniors\n",
      "team_AC Ajaccio\n",
      "team_AC Milan\n",
      "team_AC Monza\n",
      "team_ACF Fiorentina\n",
      "team_AFC Bournemouth\n",
      "team_AJ Auxerre\n",
      "team_AS Monaco\n",
      "team_AS Roma\n",
      "team_AZ Alkmaar\n",
      "team_Abha Club\n",
      "team_Adana Demirspor\n",
      "team_Adelaide United\n",
      "team_Ajax Amsterdam\n",
      "team_Akhmat Grozny\n",
      "team_Al-Adalah FC\n",
      "team_Al-Batin FC\n",
      "team_Al-Fateh SC\n",
      "team_Al-Fayha FC\n",
      "team_Al-Hilal Saudi FC\n",
      "team_Al-Ittihad Club (Jeddah)\n",
      "team_Al-Khaleej\n",
      "team_Al-Nassr FC\n",
      "team_Al-Raed SFC\n",
      "team_Al-Shabab Club (Riyadh)\n",
      "team_Al-Taawoun FC\n",
      "team_Al-Tai\n",
      "team_Al-Wehda FC\n",
      "team_Alanyaspor\n",
      "team_Albirex Niigata\n",
      "team_AmaZulu FC\n",
      "team_América Futebol Clube (MG)\n",
      "team_Angers SCO\n",
      "team_Antalyaspor\n",
      "team_Arsenal FC\n",
      "team_Arsenal Fútbol Club\n",
      "team_Aston Villa\n",
      "team_Atalanta BC\n",
      "team_Athletic Bilbao\n",
      "team_Atlanta United FC\n",
      "team_Atlas Guadalajara\n",
      "team_Atlético de Madrid\n",
      "team_Atlético de San Luis\n",
      "team_Austin FC\n",
      "team_Austria Vienna\n",
      "team_Avispa Fukuoka\n",
      "team_Basaksehir FK\n",
      "team_Bayer 04 Leverkusen\n",
      "team_Bayern Munich\n",
      "team_Besiktas JK\n",
      "team_Birmingham City\n",
      "team_Blackburn Rovers\n",
      "team_Blackpool FC\n",
      "team_Boavista FC\n",
      "team_Bologna FC 1909\n",
      "team_Borussia Dortmund\n",
      "team_Borussia Mönchengladbach\n",
      "team_Botafogo de Futebol e Regatas\n",
      "team_Brentford FC\n",
      "team_Brighton &amp; Hove Albion\n",
      "team_Brisbane Roar\n",
      "team_Bristol City\n",
      "team_Burnley FC\n",
      "team_CA Banfield\n",
      "team_CA Barracas Central\n",
      "team_CA Boca Juniors\n",
      "team_CA Central Córdoba (SdE)\n",
      "team_CA Colon\n",
      "team_CA Independiente\n",
      "team_CA Newell's Old Boys\n",
      "team_CA Osasuna\n",
      "team_CA River Plate\n",
      "team_CA Rosario Central\n",
      "team_CA San Lorenzo de Almagro\n",
      "team_CA Sarmiento (Junin)\n",
      "team_CA Vélez Sarsfield\n",
      "team_CD Cruz Azul\n",
      "team_CD Godoy Cruz Antonio Tomba\n",
      "team_CD Santa Clara\n",
      "team_CF América\n",
      "team_CF Monterrey\n",
      "team_CF Montréal\n",
      "team_CF Pachuca\n",
      "team_CR Flamengo\n",
      "team_CS Marítimo\n",
      "team_CSKA Moscow\n",
      "team_Cape Town City FC\n",
      "team_Cardiff City\n",
      "team_Casa Pia AC\n",
      "team_Celta de Vigo\n",
      "team_Central Coast Mariners\n",
      "team_Cerezo Osaka\n",
      "team_Charlotte FC\n",
      "team_Chelsea FC\n",
      "team_Chicago Fire FC\n",
      "team_Chippa United\n",
      "team_Clermont Foot 63\n",
      "team_Club Athletico Paranaense\n",
      "team_Club Atlético Belgrano\n",
      "team_Club Atlético Lanús\n",
      "team_Club Atlético Platense\n",
      "team_Club Atlético Talleres\n",
      "team_Club Atlético Tigre\n",
      "team_Club Atlético Tucumán\n",
      "team_Club Atlético Unión\n",
      "team_Club Estudiantes de La Plata\n",
      "team_Club León FC\n",
      "team_Club Necaxa\n",
      "team_Club Tijuana\n",
      "team_Club de Gimnasia y Esgrima La Plata\n",
      "team_Clube Atlético Mineiro\n",
      "team_Clube de Regatas Vasco da Gama\n",
      "team_Colorado Rapids\n",
      "team_Columbus Crew\n",
      "team_Coritiba Foot Ball Club\n",
      "team_Coventry City\n",
      "team_Cruzeiro Esporte Clube\n",
      "team_Crystal Palace\n",
      "team_Cuiabá Esporte Clube (MT)\n",
      "team_Cádiz CF\n",
      "team_D.C. United\n",
      "team_Daegu FC\n",
      "team_Daejeon Hana Citizen\n",
      "team_Damac FC\n",
      "team_Defensa y Justicia\n",
      "team_Deportivo Guadalajara\n",
      "team_Deportivo Toluca\n",
      "team_Dynamo Moscow\n",
      "team_ESTAC Troyes\n",
      "team_Eintracht Frankfurt\n",
      "team_Elche CF\n",
      "team_Esporte Clube Bahia\n",
      "team_Ettifaq FC\n",
      "team_Everton FC\n",
      "team_Excelsior Rotterdam\n",
      "team_FC Arouca\n",
      "team_FC Augsburg\n",
      "team_FC Barcelona\n",
      "team_FC Cincinnati\n",
      "team_FC Dallas\n",
      "team_FC Emmen\n",
      "team_FC Empoli\n",
      "team_FC Famalicão\n",
      "team_FC Groningen\n",
      "team_FC Juárez\n",
      "team_FC Lorient\n",
      "team_FC Nantes\n",
      "team_FC Pari Nizhniy Novgorod\n",
      "team_FC Paços de Ferreira\n",
      "team_FC Porto\n",
      "team_FC Schalke 04\n",
      "team_FC Seoul\n",
      "team_FC Sochi\n",
      "team_FC Tokyo\n",
      "team_FC Toulouse\n",
      "team_FC Utrecht\n",
      "team_FC Vizela\n",
      "team_FC Volendam\n",
      "team_FK Khimki\n",
      "team_FK Krasnodar\n",
      "team_FK Orenburg\n",
      "team_FK Rostov\n",
      "team_Fakel Voronezh\n",
      "team_Fatih Karagümrük\n",
      "team_Fenerbahce\n",
      "team_Feyenoord Rotterdam\n",
      "team_Fluminense Football Club\n",
      "team_Fortaleza Esporte Clube\n",
      "team_Fortuna Sittard\n",
      "team_Fulham FC\n",
      "team_GD Chaves\n",
      "team_GD Estoril Praia\n",
      "team_Galatasaray\n",
      "team_Gamba Osaka\n",
      "team_Gangwon FC\n",
      "team_Gaziantep FK\n",
      "team_Getafe CF\n",
      "team_Gil Vicente FC\n",
      "team_Giresunspor\n",
      "team_Girona FC\n",
      "team_Go Ahead Eagles\n",
      "team_Grêmio Foot-Ball Porto Alegrense\n",
      "team_Gwangju FC\n",
      "team_Hatayspor\n",
      "team_Hellas Verona\n",
      "team_Hertha BSC\n",
      "team_Hokkaido Consadole Sapporo\n",
      "team_Houston Dynamo FC\n",
      "team_Huddersfield Town\n",
      "team_Hull City\n",
      "team_Incheon United\n",
      "team_Instituto AC Córdoba\n",
      "team_Inter Miami CF\n",
      "team_Inter Milan\n",
      "team_Istanbulspor\n",
      "team_Jeju United\n",
      "team_Jeonbuk Hyundai Motors\n",
      "team_Juventus FC\n",
      "team_Kaizer Chiefs\n",
      "team_Kashima Antlers\n",
      "team_Kashiwa Reysol\n",
      "team_Kasimpasa\n",
      "team_Kawasaki Frontale\n",
      "team_Kayserispor\n",
      "team_Konyaspor\n",
      "team_Krylya Sovetov Samara\n",
      "team_Kyoto Sanga\n",
      "team_LASK\n",
      "team_LOSC Lille\n",
      "team_Lamontville Golden Arrows\n",
      "team_Leeds United\n",
      "team_Leicester City\n",
      "team_Liverpool FC\n",
      "team_Lokomotiv Moscow\n",
      "team_Los Angeles FC\n",
      "team_Los Angeles Galaxy\n",
      "team_Luton Town\n",
      "team_MKE Ankaragücü\n",
      "team_Macarthur FC\n",
      "team_Mamelodi Sundowns FC\n",
      "team_Manchester City\n",
      "team_Manchester United\n",
      "team_Maritzburg United FC\n",
      "team_Marumo Gallants FC\n",
      "team_Mazatlán FC\n",
      "team_Melbourne City FC\n",
      "team_Melbourne Victory\n",
      "team_Middlesbrough FC\n",
      "team_Millwall FC\n",
      "team_Minnesota United FC\n",
      "team_Montpellier HSC\n",
      "team_NEC Nijmegen\n",
      "team_Nagoya Grampus\n",
      "team_Nashville SC\n",
      "team_New England Revolution\n",
      "team_New York City FC\n",
      "team_New York Red Bulls\n",
      "team_Newcastle United\n",
      "team_Newcastle United Jets\n",
      "team_Norwich City\n",
      "team_Nottingham Forest\n",
      "team_OGC Nice\n",
      "team_Olympique Lyon\n",
      "team_Olympique Marseille\n",
      "team_Orlando City SC\n",
      "team_Orlando Pirates\n",
      "team_PSV Eindhoven\n",
      "team_Paris Saint-Germain\n",
      "team_Perth Glory\n",
      "team_Philadelphia Union\n",
      "team_Pohang Steelers\n",
      "team_Portimonense SC\n",
      "team_Portland Timbers\n",
      "team_Preston North End\n",
      "team_Puebla FC\n",
      "team_Queens Park Rangers\n",
      "team_Querétaro FC\n",
      "team_RB Leipzig\n",
      "team_RC Lens\n",
      "team_RC Strasbourg Alsace\n",
      "team_RCD Espanyol Barcelona\n",
      "team_RCD Mallorca\n",
      "team_RKC Waalwijk\n",
      "team_Racing Club\n",
      "team_Rapid Vienna\n",
      "team_Rayo Vallecano\n",
      "team_Reading FC\n",
      "team_Real Betis Balompié\n",
      "team_Real Madrid\n",
      "team_Real Salt Lake City\n",
      "team_Real Sociedad\n",
      "team_Real Valladolid CF\n",
      "team_Red Bull Bragantino\n",
      "team_Red Bull Salzburg\n",
      "team_Richards Bay FC\n",
      "team_Rio Ave FC\n",
      "team_Rotherham United\n",
      "team_Royal AM FC\n",
      "team_SC Austria Lustenau\n",
      "team_SC Braga\n",
      "team_SC Cambuur Leeuwarden\n",
      "team_SC Freiburg\n",
      "team_SC Heerenveen\n",
      "team_SCR Altach\n",
      "team_SK Austria Klagenfurt\n",
      "team_SK Sturm Graz\n",
      "team_SL Benfica\n",
      "team_SS Lazio\n",
      "team_SSC Napoli\n",
      "team_SV Ried\n",
      "team_SV Werder Bremen\n",
      "team_Sagan Tosu\n",
      "team_San Jose Earthquakes\n",
      "team_Sanfrecce Hiroshima\n",
      "team_Santos FC\n",
      "team_Santos Laguna\n",
      "team_Seattle Sounders FC\n",
      "team_Sekhukhune United FC\n",
      "team_Sevilla FC\n",
      "team_Sheffield United\n",
      "team_Shonan Bellmare\n",
      "team_Sivasspor\n",
      "team_Southampton FC\n",
      "team_Sparta Rotterdam\n",
      "team_Spartak Moscow\n",
      "team_Spezia Calcio\n",
      "team_Sport Club Corinthians Paulista\n",
      "team_Sport Club Internacional\n",
      "team_Sporting CP\n",
      "team_Sporting Kansas City\n",
      "team_St. Louis CITY SC\n",
      "team_Stade Brestois 29\n",
      "team_Stade Reims\n",
      "team_Stade Rennais FC\n",
      "team_Stellenbosch FC\n",
      "team_Stoke City\n",
      "team_Sunderland AFC\n",
      "team_SuperSport United\n",
      "team_Suwon FC\n",
      "team_Suwon Samsung Bluewings\n",
      "team_Swallows FC\n",
      "team_Swansea City\n",
      "team_Sydney FC\n",
      "team_São Paulo Futebol Clube\n",
      "team_TS Galaxy FC\n",
      "team_TSG 1899 Hoffenheim\n",
      "team_TSV Hartberg\n",
      "team_Tigres UANL\n",
      "team_Torino FC\n",
      "team_Toronto FC\n",
      "team_Torpedo Moscow\n",
      "team_Tottenham Hotspur\n",
      "team_Trabzonspor\n",
      "team_Twente Enschede FC\n",
      "team_UC Sampdoria\n",
      "team_UD Almería\n",
      "team_UNAM Pumas\n",
      "team_US Cremonese\n",
      "team_US Lecce\n",
      "team_US Salernitana 1919\n",
      "team_US Sassuolo\n",
      "team_Udinese Calcio\n",
      "team_Ulsan Hyundai\n",
      "team_Ural Yekaterinburg\n",
      "team_Urawa Red Diamonds\n",
      "team_Valencia CF\n",
      "team_Vancouver Whitecaps FC\n",
      "team_VfB Stuttgart\n",
      "team_VfL Bochum\n",
      "team_VfL Wolfsburg\n",
      "team_Villarreal CF\n",
      "team_Vissel Kobe\n",
      "team_Vitesse Arnhem\n",
      "team_Vitória Guimarães SC\n",
      "team_WSG Tirol\n",
      "team_Watford FC\n",
      "team_Wellington Phoenix\n",
      "team_West Bromwich Albion\n",
      "team_West Ham United\n",
      "team_Western Sydney Wanderers\n",
      "team_Western United FC\n",
      "team_Wigan Athletic\n",
      "team_Wolfsberger AC\n",
      "team_Wolverhampton Wanderers\n",
      "team_Yokohama F. Marinos\n",
      "team_Yokohama FC\n",
      "team_Zenit St. Petersburg\n",
      "team_Ümraniyespor\n",
      "position_encoded\n"
     ]
    }
   ],
   "source": [
    "df.shape\n",
    "\n",
    "for i in df.columns:\n",
    "    print(i)"
   ]
  },
  {
   "cell_type": "code",
   "execution_count": 527,
   "metadata": {},
   "outputs": [
    {
     "data": {
      "text/html": [
       "<div>\n",
       "<style scoped>\n",
       "    .dataframe tbody tr th:only-of-type {\n",
       "        vertical-align: middle;\n",
       "    }\n",
       "\n",
       "    .dataframe tbody tr th {\n",
       "        vertical-align: top;\n",
       "    }\n",
       "\n",
       "    .dataframe thead th {\n",
       "        text-align: right;\n",
       "    }\n",
       "</style>\n",
       "<table border=\"1\" class=\"dataframe\">\n",
       "  <thead>\n",
       "    <tr style=\"text-align: right;\">\n",
       "      <th></th>\n",
       "      <th>height</th>\n",
       "      <th>age</th>\n",
       "      <th>appearance</th>\n",
       "      <th>goals</th>\n",
       "      <th>assists</th>\n",
       "      <th>yellow cards</th>\n",
       "      <th>second yellow cards</th>\n",
       "      <th>red cards</th>\n",
       "      <th>goals conceded</th>\n",
       "      <th>clean sheets</th>\n",
       "      <th>...</th>\n",
       "      <th>team_Western Sydney Wanderers</th>\n",
       "      <th>team_Western United FC</th>\n",
       "      <th>team_Wigan Athletic</th>\n",
       "      <th>team_Wolfsberger AC</th>\n",
       "      <th>team_Wolverhampton Wanderers</th>\n",
       "      <th>team_Yokohama F. Marinos</th>\n",
       "      <th>team_Yokohama FC</th>\n",
       "      <th>team_Zenit St. Petersburg</th>\n",
       "      <th>team_Ümraniyespor</th>\n",
       "      <th>position_encoded</th>\n",
       "    </tr>\n",
       "  </thead>\n",
       "  <tbody>\n",
       "    <tr>\n",
       "      <th>0</th>\n",
       "      <td>196.0</td>\n",
       "      <td>30.0</td>\n",
       "      <td>15</td>\n",
       "      <td>0.0</td>\n",
       "      <td>0.0</td>\n",
       "      <td>0.069018</td>\n",
       "      <td>0.0</td>\n",
       "      <td>0.0</td>\n",
       "      <td>1.242331</td>\n",
       "      <td>0.207055</td>\n",
       "      <td>...</td>\n",
       "      <td>False</td>\n",
       "      <td>False</td>\n",
       "      <td>False</td>\n",
       "      <td>False</td>\n",
       "      <td>False</td>\n",
       "      <td>False</td>\n",
       "      <td>False</td>\n",
       "      <td>False</td>\n",
       "      <td>False</td>\n",
       "      <td>9</td>\n",
       "    </tr>\n",
       "    <tr>\n",
       "      <th>1</th>\n",
       "      <td>186.0</td>\n",
       "      <td>21.0</td>\n",
       "      <td>34</td>\n",
       "      <td>0.0</td>\n",
       "      <td>0.0</td>\n",
       "      <td>0.130529</td>\n",
       "      <td>0.0</td>\n",
       "      <td>0.0</td>\n",
       "      <td>0.000000</td>\n",
       "      <td>0.000000</td>\n",
       "      <td>...</td>\n",
       "      <td>False</td>\n",
       "      <td>False</td>\n",
       "      <td>False</td>\n",
       "      <td>False</td>\n",
       "      <td>False</td>\n",
       "      <td>False</td>\n",
       "      <td>False</td>\n",
       "      <td>False</td>\n",
       "      <td>False</td>\n",
       "      <td>6</td>\n",
       "    </tr>\n",
       "  </tbody>\n",
       "</table>\n",
       "<p>2 rows × 388 columns</p>\n",
       "</div>"
      ],
      "text/plain": [
       "   height   age  appearance  goals  assists  yellow cards  \\\n",
       "0   196.0  30.0          15    0.0      0.0      0.069018   \n",
       "1   186.0  21.0          34    0.0      0.0      0.130529   \n",
       "\n",
       "   second yellow cards  red cards  goals conceded  clean sheets  ...  \\\n",
       "0                  0.0        0.0        1.242331      0.207055  ...   \n",
       "1                  0.0        0.0        0.000000      0.000000  ...   \n",
       "\n",
       "   team_Western Sydney Wanderers  team_Western United FC  team_Wigan Athletic  \\\n",
       "0                          False                   False                False   \n",
       "1                          False                   False                False   \n",
       "\n",
       "   team_Wolfsberger AC  team_Wolverhampton Wanderers  \\\n",
       "0                False                         False   \n",
       "1                False                         False   \n",
       "\n",
       "   team_Yokohama F. Marinos  team_Yokohama FC  team_Zenit St. Petersburg  \\\n",
       "0                     False             False                      False   \n",
       "1                     False             False                      False   \n",
       "\n",
       "   team_Ümraniyespor  position_encoded  \n",
       "0              False                 9  \n",
       "1              False                 6  \n",
       "\n",
       "[2 rows x 388 columns]"
      ]
     },
     "execution_count": 527,
     "metadata": {},
     "output_type": "execute_result"
    }
   ],
   "source": [
    "df.head(2)\n"
   ]
  },
  {
   "cell_type": "code",
   "execution_count": null,
   "metadata": {},
   "outputs": [],
   "source": []
  },
  {
   "cell_type": "markdown",
   "metadata": {},
   "source": [
    "#### 3. Feature selection"
   ]
  },
  {
   "cell_type": "code",
   "execution_count": 528,
   "metadata": {},
   "outputs": [],
   "source": [
    "# sns.heatmap(df.corr(), annot=True);"
   ]
  },
  {
   "cell_type": "code",
   "execution_count": 529,
   "metadata": {},
   "outputs": [
    {
     "name": "stdout",
     "output_type": "stream",
     "text": [
      "position_encoded    1.000000\n",
      "goals conceded      0.137164\n",
      "clean sheets        0.132269\n",
      "yellow cards        0.089864\n",
      "minutes played      0.073158\n",
      "                      ...   \n",
      "team_Gangwon FC    -0.030292\n",
      "team_FC Seoul      -0.031199\n",
      "height             -0.063787\n",
      "assists            -0.164697\n",
      "goals              -0.439485\n",
      "Name: position_encoded, Length: 388, dtype: float64\n"
     ]
    }
   ],
   "source": [
    "correlation = df.corr()\n",
    "print(correlation[\"position_encoded\"].sort_values(ascending=False))"
   ]
  },
  {
   "cell_type": "code",
   "execution_count": 530,
   "metadata": {},
   "outputs": [
    {
     "data": {
      "text/plain": [
       "Index(['height', 'age', 'appearance', 'goals', 'assists', 'yellow cards',\n",
       "       'second yellow cards', 'goals conceded', 'clean sheets',\n",
       "       'minutes played',\n",
       "       ...\n",
       "       'team_Ural Yekaterinburg', 'team_Urawa Red Diamonds',\n",
       "       'team_Vancouver Whitecaps FC', 'team_VfL Bochum', 'team_WSG Tirol',\n",
       "       'team_Watford FC', 'team_West Ham United', 'team_Wolfsberger AC',\n",
       "       'team_Zenit St. Petersburg', 'position_encoded'],\n",
       "      dtype='object', length=155)"
      ]
     },
     "execution_count": 530,
     "metadata": {},
     "output_type": "execute_result"
    }
   ],
   "source": [
    "# Set the correlation threshold\n",
    "threshold = 0.01 # You can change this value based on your requirement\n",
    "\n",
    "# Filter the correlations\n",
    "# We use `abs()` for absolute value to consider both strong positive and negative correlations\n",
    "selected_features = correlation[abs(correlation['position_encoded']) > threshold]['position_encoded'].index\n",
    "selected_features"
   ]
  },
  {
   "cell_type": "code",
   "execution_count": 531,
   "metadata": {},
   "outputs": [],
   "source": [
    "# selected_features = ['appearance', 'minutes played', 'current_value', 'highest_value']"
   ]
  },
  {
   "cell_type": "code",
   "execution_count": 532,
   "metadata": {},
   "outputs": [
    {
     "data": {
      "text/plain": [
       "position_encoded\n",
       "6     1006\n",
       "12     666\n",
       "1      644\n",
       "9      558\n",
       "8      521\n",
       "13     479\n",
       "7      473\n",
       "3      430\n",
       "11     419\n",
       "2      389\n",
       "15      57\n",
       "14      49\n",
       "4       37\n",
       "10       6\n",
       "5        5\n",
       "0        4\n",
       "Name: count, dtype: int64"
      ]
     },
     "execution_count": 532,
     "metadata": {},
     "output_type": "execute_result"
    }
   ],
   "source": [
    "df = df[selected_features]\n",
    "df.head()\n",
    "df.columns\n",
    "df[\"position_encoded\"].value_counts()"
   ]
  },
  {
   "cell_type": "markdown",
   "metadata": {},
   "source": [
    "#### 4. Prepare train and test data"
   ]
  },
  {
   "cell_type": "code",
   "execution_count": 533,
   "metadata": {},
   "outputs": [],
   "source": [
    "from imblearn.over_sampling import RandomOverSampler\n",
    "\n",
    "ros = RandomOverSampler(random_state=42)\n"
   ]
  },
  {
   "cell_type": "code",
   "execution_count": 534,
   "metadata": {},
   "outputs": [],
   "source": [
    "# Prepare data\n",
    "X = df.drop(['position_encoded'], axis=1)\n",
    "y = df['position_encoded']\n",
    "\n",
    "# Split data into training and testing sets\n",
    "X_train, X_test, y_train, y_test = train_test_split(X, y,\n",
    "                                                    test_size=0.15,\n",
    "                                                    shuffle=True,\n",
    "                                                    random_state=42)\n",
    "\n",
    "# sacle the data\n",
    "scaler = StandardScaler()\n",
    "scaler.fit(X_train)\n",
    "X_train_scaled = scaler.transform(X_train)\n",
    "X_test_scaled = scaler.transform(X_test)\n",
    "X_train_resampled, y_train_resampled = ros.fit_resample(X_train_scaled, y_train)\n"
   ]
  },
  {
   "cell_type": "code",
   "execution_count": 535,
   "metadata": {},
   "outputs": [
    {
     "data": {
      "text/plain": [
       "(5743, 154)"
      ]
     },
     "execution_count": 535,
     "metadata": {},
     "output_type": "execute_result"
    }
   ],
   "source": [
    "X.shape"
   ]
  },
  {
   "cell_type": "markdown",
   "metadata": {},
   "source": [
    "## Buliding the Model"
   ]
  },
  {
   "cell_type": "code",
   "execution_count": 536,
   "metadata": {},
   "outputs": [],
   "source": [
    "model = LogisticRegression()\n"
   ]
  },
  {
   "cell_type": "markdown",
   "metadata": {},
   "source": [
    "## Train the Model"
   ]
  },
  {
   "cell_type": "code",
   "execution_count": 537,
   "metadata": {},
   "outputs": [
    {
     "data": {
      "text/html": [
       "<style>#sk-container-id-9 {\n",
       "  /* Definition of color scheme common for light and dark mode */\n",
       "  --sklearn-color-text: black;\n",
       "  --sklearn-color-line: gray;\n",
       "  /* Definition of color scheme for unfitted estimators */\n",
       "  --sklearn-color-unfitted-level-0: #fff5e6;\n",
       "  --sklearn-color-unfitted-level-1: #f6e4d2;\n",
       "  --sklearn-color-unfitted-level-2: #ffe0b3;\n",
       "  --sklearn-color-unfitted-level-3: chocolate;\n",
       "  /* Definition of color scheme for fitted estimators */\n",
       "  --sklearn-color-fitted-level-0: #f0f8ff;\n",
       "  --sklearn-color-fitted-level-1: #d4ebff;\n",
       "  --sklearn-color-fitted-level-2: #b3dbfd;\n",
       "  --sklearn-color-fitted-level-3: cornflowerblue;\n",
       "\n",
       "  /* Specific color for light theme */\n",
       "  --sklearn-color-text-on-default-background: var(--sg-text-color, var(--theme-code-foreground, var(--jp-content-font-color1, black)));\n",
       "  --sklearn-color-background: var(--sg-background-color, var(--theme-background, var(--jp-layout-color0, white)));\n",
       "  --sklearn-color-border-box: var(--sg-text-color, var(--theme-code-foreground, var(--jp-content-font-color1, black)));\n",
       "  --sklearn-color-icon: #696969;\n",
       "\n",
       "  @media (prefers-color-scheme: dark) {\n",
       "    /* Redefinition of color scheme for dark theme */\n",
       "    --sklearn-color-text-on-default-background: var(--sg-text-color, var(--theme-code-foreground, var(--jp-content-font-color1, white)));\n",
       "    --sklearn-color-background: var(--sg-background-color, var(--theme-background, var(--jp-layout-color0, #111)));\n",
       "    --sklearn-color-border-box: var(--sg-text-color, var(--theme-code-foreground, var(--jp-content-font-color1, white)));\n",
       "    --sklearn-color-icon: #878787;\n",
       "  }\n",
       "}\n",
       "\n",
       "#sk-container-id-9 {\n",
       "  color: var(--sklearn-color-text);\n",
       "}\n",
       "\n",
       "#sk-container-id-9 pre {\n",
       "  padding: 0;\n",
       "}\n",
       "\n",
       "#sk-container-id-9 input.sk-hidden--visually {\n",
       "  border: 0;\n",
       "  clip: rect(1px 1px 1px 1px);\n",
       "  clip: rect(1px, 1px, 1px, 1px);\n",
       "  height: 1px;\n",
       "  margin: -1px;\n",
       "  overflow: hidden;\n",
       "  padding: 0;\n",
       "  position: absolute;\n",
       "  width: 1px;\n",
       "}\n",
       "\n",
       "#sk-container-id-9 div.sk-dashed-wrapped {\n",
       "  border: 1px dashed var(--sklearn-color-line);\n",
       "  margin: 0 0.4em 0.5em 0.4em;\n",
       "  box-sizing: border-box;\n",
       "  padding-bottom: 0.4em;\n",
       "  background-color: var(--sklearn-color-background);\n",
       "}\n",
       "\n",
       "#sk-container-id-9 div.sk-container {\n",
       "  /* jupyter's `normalize.less` sets `[hidden] { display: none; }`\n",
       "     but bootstrap.min.css set `[hidden] { display: none !important; }`\n",
       "     so we also need the `!important` here to be able to override the\n",
       "     default hidden behavior on the sphinx rendered scikit-learn.org.\n",
       "     See: https://github.com/scikit-learn/scikit-learn/issues/21755 */\n",
       "  display: inline-block !important;\n",
       "  position: relative;\n",
       "}\n",
       "\n",
       "#sk-container-id-9 div.sk-text-repr-fallback {\n",
       "  display: none;\n",
       "}\n",
       "\n",
       "div.sk-parallel-item,\n",
       "div.sk-serial,\n",
       "div.sk-item {\n",
       "  /* draw centered vertical line to link estimators */\n",
       "  background-image: linear-gradient(var(--sklearn-color-text-on-default-background), var(--sklearn-color-text-on-default-background));\n",
       "  background-size: 2px 100%;\n",
       "  background-repeat: no-repeat;\n",
       "  background-position: center center;\n",
       "}\n",
       "\n",
       "/* Parallel-specific style estimator block */\n",
       "\n",
       "#sk-container-id-9 div.sk-parallel-item::after {\n",
       "  content: \"\";\n",
       "  width: 100%;\n",
       "  border-bottom: 2px solid var(--sklearn-color-text-on-default-background);\n",
       "  flex-grow: 1;\n",
       "}\n",
       "\n",
       "#sk-container-id-9 div.sk-parallel {\n",
       "  display: flex;\n",
       "  align-items: stretch;\n",
       "  justify-content: center;\n",
       "  background-color: var(--sklearn-color-background);\n",
       "  position: relative;\n",
       "}\n",
       "\n",
       "#sk-container-id-9 div.sk-parallel-item {\n",
       "  display: flex;\n",
       "  flex-direction: column;\n",
       "}\n",
       "\n",
       "#sk-container-id-9 div.sk-parallel-item:first-child::after {\n",
       "  align-self: flex-end;\n",
       "  width: 50%;\n",
       "}\n",
       "\n",
       "#sk-container-id-9 div.sk-parallel-item:last-child::after {\n",
       "  align-self: flex-start;\n",
       "  width: 50%;\n",
       "}\n",
       "\n",
       "#sk-container-id-9 div.sk-parallel-item:only-child::after {\n",
       "  width: 0;\n",
       "}\n",
       "\n",
       "/* Serial-specific style estimator block */\n",
       "\n",
       "#sk-container-id-9 div.sk-serial {\n",
       "  display: flex;\n",
       "  flex-direction: column;\n",
       "  align-items: center;\n",
       "  background-color: var(--sklearn-color-background);\n",
       "  padding-right: 1em;\n",
       "  padding-left: 1em;\n",
       "}\n",
       "\n",
       "\n",
       "/* Toggleable style: style used for estimator/Pipeline/ColumnTransformer box that is\n",
       "clickable and can be expanded/collapsed.\n",
       "- Pipeline and ColumnTransformer use this feature and define the default style\n",
       "- Estimators will overwrite some part of the style using the `sk-estimator` class\n",
       "*/\n",
       "\n",
       "/* Pipeline and ColumnTransformer style (default) */\n",
       "\n",
       "#sk-container-id-9 div.sk-toggleable {\n",
       "  /* Default theme specific background. It is overwritten whether we have a\n",
       "  specific estimator or a Pipeline/ColumnTransformer */\n",
       "  background-color: var(--sklearn-color-background);\n",
       "}\n",
       "\n",
       "/* Toggleable label */\n",
       "#sk-container-id-9 label.sk-toggleable__label {\n",
       "  cursor: pointer;\n",
       "  display: block;\n",
       "  width: 100%;\n",
       "  margin-bottom: 0;\n",
       "  padding: 0.5em;\n",
       "  box-sizing: border-box;\n",
       "  text-align: center;\n",
       "}\n",
       "\n",
       "#sk-container-id-9 label.sk-toggleable__label-arrow:before {\n",
       "  /* Arrow on the left of the label */\n",
       "  content: \"▸\";\n",
       "  float: left;\n",
       "  margin-right: 0.25em;\n",
       "  color: var(--sklearn-color-icon);\n",
       "}\n",
       "\n",
       "#sk-container-id-9 label.sk-toggleable__label-arrow:hover:before {\n",
       "  color: var(--sklearn-color-text);\n",
       "}\n",
       "\n",
       "/* Toggleable content - dropdown */\n",
       "\n",
       "#sk-container-id-9 div.sk-toggleable__content {\n",
       "  max-height: 0;\n",
       "  max-width: 0;\n",
       "  overflow: hidden;\n",
       "  text-align: left;\n",
       "  /* unfitted */\n",
       "  background-color: var(--sklearn-color-unfitted-level-0);\n",
       "}\n",
       "\n",
       "#sk-container-id-9 div.sk-toggleable__content.fitted {\n",
       "  /* fitted */\n",
       "  background-color: var(--sklearn-color-fitted-level-0);\n",
       "}\n",
       "\n",
       "#sk-container-id-9 div.sk-toggleable__content pre {\n",
       "  margin: 0.2em;\n",
       "  border-radius: 0.25em;\n",
       "  color: var(--sklearn-color-text);\n",
       "  /* unfitted */\n",
       "  background-color: var(--sklearn-color-unfitted-level-0);\n",
       "}\n",
       "\n",
       "#sk-container-id-9 div.sk-toggleable__content.fitted pre {\n",
       "  /* unfitted */\n",
       "  background-color: var(--sklearn-color-fitted-level-0);\n",
       "}\n",
       "\n",
       "#sk-container-id-9 input.sk-toggleable__control:checked~div.sk-toggleable__content {\n",
       "  /* Expand drop-down */\n",
       "  max-height: 200px;\n",
       "  max-width: 100%;\n",
       "  overflow: auto;\n",
       "}\n",
       "\n",
       "#sk-container-id-9 input.sk-toggleable__control:checked~label.sk-toggleable__label-arrow:before {\n",
       "  content: \"▾\";\n",
       "}\n",
       "\n",
       "/* Pipeline/ColumnTransformer-specific style */\n",
       "\n",
       "#sk-container-id-9 div.sk-label input.sk-toggleable__control:checked~label.sk-toggleable__label {\n",
       "  color: var(--sklearn-color-text);\n",
       "  background-color: var(--sklearn-color-unfitted-level-2);\n",
       "}\n",
       "\n",
       "#sk-container-id-9 div.sk-label.fitted input.sk-toggleable__control:checked~label.sk-toggleable__label {\n",
       "  background-color: var(--sklearn-color-fitted-level-2);\n",
       "}\n",
       "\n",
       "/* Estimator-specific style */\n",
       "\n",
       "/* Colorize estimator box */\n",
       "#sk-container-id-9 div.sk-estimator input.sk-toggleable__control:checked~label.sk-toggleable__label {\n",
       "  /* unfitted */\n",
       "  background-color: var(--sklearn-color-unfitted-level-2);\n",
       "}\n",
       "\n",
       "#sk-container-id-9 div.sk-estimator.fitted input.sk-toggleable__control:checked~label.sk-toggleable__label {\n",
       "  /* fitted */\n",
       "  background-color: var(--sklearn-color-fitted-level-2);\n",
       "}\n",
       "\n",
       "#sk-container-id-9 div.sk-label label.sk-toggleable__label,\n",
       "#sk-container-id-9 div.sk-label label {\n",
       "  /* The background is the default theme color */\n",
       "  color: var(--sklearn-color-text-on-default-background);\n",
       "}\n",
       "\n",
       "/* On hover, darken the color of the background */\n",
       "#sk-container-id-9 div.sk-label:hover label.sk-toggleable__label {\n",
       "  color: var(--sklearn-color-text);\n",
       "  background-color: var(--sklearn-color-unfitted-level-2);\n",
       "}\n",
       "\n",
       "/* Label box, darken color on hover, fitted */\n",
       "#sk-container-id-9 div.sk-label.fitted:hover label.sk-toggleable__label.fitted {\n",
       "  color: var(--sklearn-color-text);\n",
       "  background-color: var(--sklearn-color-fitted-level-2);\n",
       "}\n",
       "\n",
       "/* Estimator label */\n",
       "\n",
       "#sk-container-id-9 div.sk-label label {\n",
       "  font-family: monospace;\n",
       "  font-weight: bold;\n",
       "  display: inline-block;\n",
       "  line-height: 1.2em;\n",
       "}\n",
       "\n",
       "#sk-container-id-9 div.sk-label-container {\n",
       "  text-align: center;\n",
       "}\n",
       "\n",
       "/* Estimator-specific */\n",
       "#sk-container-id-9 div.sk-estimator {\n",
       "  font-family: monospace;\n",
       "  border: 1px dotted var(--sklearn-color-border-box);\n",
       "  border-radius: 0.25em;\n",
       "  box-sizing: border-box;\n",
       "  margin-bottom: 0.5em;\n",
       "  /* unfitted */\n",
       "  background-color: var(--sklearn-color-unfitted-level-0);\n",
       "}\n",
       "\n",
       "#sk-container-id-9 div.sk-estimator.fitted {\n",
       "  /* fitted */\n",
       "  background-color: var(--sklearn-color-fitted-level-0);\n",
       "}\n",
       "\n",
       "/* on hover */\n",
       "#sk-container-id-9 div.sk-estimator:hover {\n",
       "  /* unfitted */\n",
       "  background-color: var(--sklearn-color-unfitted-level-2);\n",
       "}\n",
       "\n",
       "#sk-container-id-9 div.sk-estimator.fitted:hover {\n",
       "  /* fitted */\n",
       "  background-color: var(--sklearn-color-fitted-level-2);\n",
       "}\n",
       "\n",
       "/* Specification for estimator info (e.g. \"i\" and \"?\") */\n",
       "\n",
       "/* Common style for \"i\" and \"?\" */\n",
       "\n",
       ".sk-estimator-doc-link,\n",
       "a:link.sk-estimator-doc-link,\n",
       "a:visited.sk-estimator-doc-link {\n",
       "  float: right;\n",
       "  font-size: smaller;\n",
       "  line-height: 1em;\n",
       "  font-family: monospace;\n",
       "  background-color: var(--sklearn-color-background);\n",
       "  border-radius: 1em;\n",
       "  height: 1em;\n",
       "  width: 1em;\n",
       "  text-decoration: none !important;\n",
       "  margin-left: 1ex;\n",
       "  /* unfitted */\n",
       "  border: var(--sklearn-color-unfitted-level-1) 1pt solid;\n",
       "  color: var(--sklearn-color-unfitted-level-1);\n",
       "}\n",
       "\n",
       ".sk-estimator-doc-link.fitted,\n",
       "a:link.sk-estimator-doc-link.fitted,\n",
       "a:visited.sk-estimator-doc-link.fitted {\n",
       "  /* fitted */\n",
       "  border: var(--sklearn-color-fitted-level-1) 1pt solid;\n",
       "  color: var(--sklearn-color-fitted-level-1);\n",
       "}\n",
       "\n",
       "/* On hover */\n",
       "div.sk-estimator:hover .sk-estimator-doc-link:hover,\n",
       ".sk-estimator-doc-link:hover,\n",
       "div.sk-label-container:hover .sk-estimator-doc-link:hover,\n",
       ".sk-estimator-doc-link:hover {\n",
       "  /* unfitted */\n",
       "  background-color: var(--sklearn-color-unfitted-level-3);\n",
       "  color: var(--sklearn-color-background);\n",
       "  text-decoration: none;\n",
       "}\n",
       "\n",
       "div.sk-estimator.fitted:hover .sk-estimator-doc-link.fitted:hover,\n",
       ".sk-estimator-doc-link.fitted:hover,\n",
       "div.sk-label-container:hover .sk-estimator-doc-link.fitted:hover,\n",
       ".sk-estimator-doc-link.fitted:hover {\n",
       "  /* fitted */\n",
       "  background-color: var(--sklearn-color-fitted-level-3);\n",
       "  color: var(--sklearn-color-background);\n",
       "  text-decoration: none;\n",
       "}\n",
       "\n",
       "/* Span, style for the box shown on hovering the info icon */\n",
       ".sk-estimator-doc-link span {\n",
       "  display: none;\n",
       "  z-index: 9999;\n",
       "  position: relative;\n",
       "  font-weight: normal;\n",
       "  right: .2ex;\n",
       "  padding: .5ex;\n",
       "  margin: .5ex;\n",
       "  width: min-content;\n",
       "  min-width: 20ex;\n",
       "  max-width: 50ex;\n",
       "  color: var(--sklearn-color-text);\n",
       "  box-shadow: 2pt 2pt 4pt #999;\n",
       "  /* unfitted */\n",
       "  background: var(--sklearn-color-unfitted-level-0);\n",
       "  border: .5pt solid var(--sklearn-color-unfitted-level-3);\n",
       "}\n",
       "\n",
       ".sk-estimator-doc-link.fitted span {\n",
       "  /* fitted */\n",
       "  background: var(--sklearn-color-fitted-level-0);\n",
       "  border: var(--sklearn-color-fitted-level-3);\n",
       "}\n",
       "\n",
       ".sk-estimator-doc-link:hover span {\n",
       "  display: block;\n",
       "}\n",
       "\n",
       "/* \"?\"-specific style due to the `<a>` HTML tag */\n",
       "\n",
       "#sk-container-id-9 a.estimator_doc_link {\n",
       "  float: right;\n",
       "  font-size: 1rem;\n",
       "  line-height: 1em;\n",
       "  font-family: monospace;\n",
       "  background-color: var(--sklearn-color-background);\n",
       "  border-radius: 1rem;\n",
       "  height: 1rem;\n",
       "  width: 1rem;\n",
       "  text-decoration: none;\n",
       "  /* unfitted */\n",
       "  color: var(--sklearn-color-unfitted-level-1);\n",
       "  border: var(--sklearn-color-unfitted-level-1) 1pt solid;\n",
       "}\n",
       "\n",
       "#sk-container-id-9 a.estimator_doc_link.fitted {\n",
       "  /* fitted */\n",
       "  border: var(--sklearn-color-fitted-level-1) 1pt solid;\n",
       "  color: var(--sklearn-color-fitted-level-1);\n",
       "}\n",
       "\n",
       "/* On hover */\n",
       "#sk-container-id-9 a.estimator_doc_link:hover {\n",
       "  /* unfitted */\n",
       "  background-color: var(--sklearn-color-unfitted-level-3);\n",
       "  color: var(--sklearn-color-background);\n",
       "  text-decoration: none;\n",
       "}\n",
       "\n",
       "#sk-container-id-9 a.estimator_doc_link.fitted:hover {\n",
       "  /* fitted */\n",
       "  background-color: var(--sklearn-color-fitted-level-3);\n",
       "}\n",
       "</style><div id=\"sk-container-id-9\" class=\"sk-top-container\"><div class=\"sk-text-repr-fallback\"><pre>LogisticRegression()</pre><b>In a Jupyter environment, please rerun this cell to show the HTML representation or trust the notebook. <br />On GitHub, the HTML representation is unable to render, please try loading this page with nbviewer.org.</b></div><div class=\"sk-container\" hidden><div class=\"sk-item\"><div class=\"sk-estimator fitted sk-toggleable\"><input class=\"sk-toggleable__control sk-hidden--visually\" id=\"sk-estimator-id-9\" type=\"checkbox\" checked><label for=\"sk-estimator-id-9\" class=\"sk-toggleable__label fitted sk-toggleable__label-arrow fitted\">&nbsp;&nbsp;LogisticRegression<a class=\"sk-estimator-doc-link fitted\" rel=\"noreferrer\" target=\"_blank\" href=\"https://scikit-learn.org/1.4/modules/generated/sklearn.linear_model.LogisticRegression.html\">?<span>Documentation for LogisticRegression</span></a><span class=\"sk-estimator-doc-link fitted\">i<span>Fitted</span></span></label><div class=\"sk-toggleable__content fitted\"><pre>LogisticRegression()</pre></div> </div></div></div></div>"
      ],
      "text/plain": [
       "LogisticRegression()"
      ]
     },
     "execution_count": 537,
     "metadata": {},
     "output_type": "execute_result"
    }
   ],
   "source": [
    "# Fit the model on the training data\n",
    "model.fit(X_train_resampled, y_train_resampled )"
   ]
  },
  {
   "cell_type": "markdown",
   "metadata": {},
   "source": [
    "## Test the Model"
   ]
  },
  {
   "cell_type": "markdown",
   "metadata": {},
   "source": [
    "# Predict and evaluate the model\n",
    "y_pred = model.predict(X_test_scaled)\n"
   ]
  },
  {
   "cell_type": "code",
   "execution_count": 538,
   "metadata": {},
   "outputs": [],
   "source": [
    "y_pred = model.predict(X_test_scaled)\n"
   ]
  },
  {
   "cell_type": "markdown",
   "metadata": {},
   "source": [
    "## Interpretation of the Model"
   ]
  },
  {
   "cell_type": "code",
   "execution_count": 539,
   "metadata": {},
   "outputs": [
    {
     "name": "stdout",
     "output_type": "stream",
     "text": [
      "[-7.19761236  1.70892281  1.7489881   2.02848901  0.51975857 -7.99954529\n",
      "  0.79015876  2.72364038  2.81005436 -2.30843418 -6.46512962  2.38103268\n",
      "  3.40282706  2.8790243   1.38956507  1.58826034]\n"
     ]
    }
   ],
   "source": [
    "print(model.intercept_) "
   ]
  },
  {
   "cell_type": "markdown",
   "metadata": {
    "jp-MarkdownHeadingCollapsed": true
   },
   "source": [
    "## Evaluating the Model "
   ]
  },
  {
   "cell_type": "code",
   "execution_count": 540,
   "metadata": {},
   "outputs": [
    {
     "name": "stdout",
     "output_type": "stream",
     "text": [
      "Classification Report:\n",
      "              precision    recall  f1-score   support\n",
      "\n",
      "           0       0.00      0.00      0.00         0\n",
      "           1       0.57      0.48      0.52        98\n",
      "           2       0.15      0.18      0.16        50\n",
      "           3       0.14      0.10      0.11        72\n",
      "           4       0.04      0.67      0.08         3\n",
      "           5       0.00      0.00      0.00         1\n",
      "           6       0.73      0.68      0.71       144\n",
      "           7       0.17      0.20      0.18        54\n",
      "           8       0.25      0.16      0.20        79\n",
      "           9       1.00      1.00      1.00        90\n",
      "          10       0.00      0.00      0.00         2\n",
      "          11       0.17      0.11      0.13        64\n",
      "          12       0.41      0.23      0.29       111\n",
      "          13       0.24      0.29      0.26        77\n",
      "          14       0.02      0.09      0.04        11\n",
      "          15       0.00      0.00      0.00         6\n",
      "\n",
      "    accuracy                           0.39       862\n",
      "   macro avg       0.24      0.26      0.23       862\n",
      "weighted avg       0.43      0.39      0.40       862\n",
      "\n",
      "Confusion Matrix:\n"
     ]
    },
    {
     "data": {
      "image/png": "[encoded data removed]",
      "text/plain": [
       "<Figure size 800x800 with 2 Axes>"
      ]
     },
     "metadata": {},
     "output_type": "display_data"
    }
   ],
   "source": [
    "import matplotlib.pyplot as plt\n",
    "import seaborn as sns\n",
    "from sklearn.metrics import confusion_matrix\n",
    "from sklearn.metrics import accuracy_score, classification_report\n",
    "\n",
    "# Print the classification report and confusion matrix\n",
    "print(\"Classification Report:\")\n",
    "print(classification_report(y_test, y_pred))\n",
    "print(\"Confusion Matrix:\")\n",
    "conf_matrix_test = confusion_matrix(y_test, y_pred)\n",
    "\n",
    "plt.figure(figsize=(8, 8))\n",
    "sns.heatmap(conf_matrix_test, annot=True, fmt='d', cmap='Blues')\n",
    "plt.title('Confusion Matrix - Training Data')\n",
    "plt.ylabel('True Label')\n",
    "plt.xlabel('Predicted Label')\n",
    "plt.show()"
   ]
  },
  {
   "cell_type": "markdown",
   "metadata": {},
   "source": [
    "#### Predictions vs. Real Values"
   ]
  },
  {
   "cell_type": "code",
   "execution_count": 541,
   "metadata": {},
   "outputs": [],
   "source": [
    "predictions = model.predict(X_test_scaled)\n",
    "#predictions"
   ]
  },
  {
   "cell_type": "code",
   "execution_count": 542,
   "metadata": {},
   "outputs": [],
   "source": [
    "Real_Values = np.array(y_test)\n",
    "#Real_Values"
   ]
  },
  {
   "cell_type": "code",
   "execution_count": 543,
   "metadata": {},
   "outputs": [
    {
     "data": {
      "image/png": "[encoded data removed]",
      "text/plain": [
       "<Figure size 640x480 with 1 Axes>"
      ]
     },
     "metadata": {},
     "output_type": "display_data"
    }
   ],
   "source": [
    "plt.scatter(Real_Values,predictions); "
   ]
  },
  {
   "cell_type": "markdown",
   "metadata": {},
   "source": [
    "#### Residual Histogram"
   ]
  },
  {
   "cell_type": "code",
   "execution_count": 544,
   "metadata": {},
   "outputs": [
    {
     "data": {
      "image/png": "[encoded data removed]",
      "text/plain": [
       "<Figure size 640x480 with 1 Axes>"
      ]
     },
     "metadata": {},
     "output_type": "display_data"
    }
   ],
   "source": [
    "sns.distplot((y_test-predictions),bins=50); # it's good if we get normal distribution"
   ]
  },
  {
   "cell_type": "code",
   "execution_count": null,
   "metadata": {},
   "outputs": [],
   "source": []
  }
 ],
 "metadata": {
  "kernelspec": {
   "display_name": "Python 3 (ipykernel)",
   "language": "python",
   "name": "python3"
  },
  "language_info": {
   "codemirror_mode": {
    "name": "ipython",
    "version": 3
   },
   "file_extension": ".py",
   "mimetype": "text/x-python",
   "name": "python",
   "nbconvert_exporter": "python",
   "pygments_lexer": "ipython3",
   "version": "3.11.5"
  }
 },
 "nbformat": 4,
 "nbformat_minor": 4
}
